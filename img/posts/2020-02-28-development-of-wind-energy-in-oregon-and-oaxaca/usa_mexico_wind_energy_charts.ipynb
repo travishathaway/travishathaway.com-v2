{
 "cells": [
  {
   "cell_type": "code",
   "execution_count": 41,
   "metadata": {},
   "outputs": [],
   "source": [
    "import altair as alt\n",
    "import pandas as pd\n",
    "\n",
    "from vega_datasets import data"
   ]
  },
  {
   "cell_type": "code",
   "execution_count": 66,
   "metadata": {},
   "outputs": [],
   "source": [
    "df = pd.read_csv('./usa_mexico_wind_power.csv')\n",
    "df['date'] = df['date'].astype(str)\n",
    "\n",
    "mexico = df[df['country'] == 'Mexico']\n",
    "usa = df[df['country'] == 'USA']"
   ]
  },
  {
   "cell_type": "code",
   "execution_count": 80,
   "metadata": {},
   "outputs": [
    {
     "data": {
      "text/html": [
       "\n",
       "<div id=\"altair-viz-41\"></div>\n",
       "<script type=\"text/javascript\">\n",
       "  (function(spec, embedOpt){\n",
       "    const outputDiv = document.getElementById(\"altair-viz-41\");\n",
       "    const paths = {\n",
       "      \"vega\": \"https://cdn.jsdelivr.net/npm//vega@5?noext\",\n",
       "      \"vega-lib\": \"https://cdn.jsdelivr.net/npm//vega-lib?noext\",\n",
       "      \"vega-lite\": \"https://cdn.jsdelivr.net/npm//vega-lite@4.0.0?noext\",\n",
       "      \"vega-embed\": \"https://cdn.jsdelivr.net/npm//vega-embed@6?noext\",\n",
       "    };\n",
       "\n",
       "    function loadScript(lib) {\n",
       "      return new Promise(function(resolve, reject) {\n",
       "        var s = document.createElement('script');\n",
       "        s.src = paths[lib];\n",
       "        s.async = true;\n",
       "        s.onload = () => resolve(paths[lib]);\n",
       "        s.onerror = () => reject(`Error loading script: ${paths[lib]}`);\n",
       "        document.getElementsByTagName(\"head\")[0].appendChild(s);\n",
       "      });\n",
       "    }\n",
       "\n",
       "    function showError(err) {\n",
       "      outputDiv.innerHTML = `<div class=\"error\" style=\"color:red;\">${err}</div>`;\n",
       "      throw err;\n",
       "    }\n",
       "\n",
       "    function displayChart(vegaEmbed) {\n",
       "      vegaEmbed(outputDiv, spec, embedOpt)\n",
       "        .catch(err => showError(`Javascript Error: ${err.message}<br>This usually means there's a typo in your chart specification. See the javascript console for the full traceback.`));\n",
       "    }\n",
       "\n",
       "    if(typeof define === \"function\" && define.amd) {\n",
       "      requirejs.config({paths});\n",
       "      require([\"vega-embed\"], displayChart, err => showError(`Error loading script: ${err.message}`));\n",
       "    } else if (typeof vegaEmbed === \"function\") {\n",
       "      displayChart(vegaEmbed);\n",
       "    } else {\n",
       "      loadScript(\"vega\")\n",
       "        .then(() => loadScript(\"vega-lite\"))\n",
       "        .then(() => loadScript(\"vega-embed\"))\n",
       "        .catch(showError)\n",
       "        .then(() => displayChart(vegaEmbed));\n",
       "    }\n",
       "  })({\"config\": {\"view\": {\"continuousWidth\": 400, \"continuousHeight\": 300}}, \"data\": {\"name\": \"data-9c6d7549ead28eb41a3a60d2f6efd4a8\"}, \"mark\": {\"type\": \"bar\", \"color\": \"#C43C39\"}, \"encoding\": {\"x\": {\"type\": \"nominal\", \"field\": \"date\", \"title\": \"Year\"}, \"y\": {\"type\": \"quantitative\", \"field\": \"capacity\", \"title\": \"Wind Engergy Capacity (MW)\"}}, \"height\": 200, \"width\": 350, \"$schema\": \"https://vega.github.io/schema/vega-lite/v4.0.0.json\", \"datasets\": {\"data-9c6d7549ead28eb41a3a60d2f6efd4a8\": [{\"country\": \"USA\", \"date\": \"2007\", \"capacity\": 11603}, {\"country\": \"USA\", \"date\": \"2008\", \"capacity\": 16819}, {\"country\": \"USA\", \"date\": \"2009\", \"capacity\": 25170}, {\"country\": \"USA\", \"date\": \"2010\", \"capacity\": 35159}, {\"country\": \"USA\", \"date\": \"2011\", \"capacity\": 40200}, {\"country\": \"USA\", \"date\": \"2012\", \"capacity\": 46919}, {\"country\": \"USA\", \"date\": \"2013\", \"capacity\": 60007}, {\"country\": \"USA\", \"date\": \"2014\", \"capacity\": 61110}, {\"country\": \"USA\", \"date\": \"2015\", \"capacity\": 65879}, {\"country\": \"USA\", \"date\": \"2016\", \"capacity\": 74472}, {\"country\": \"USA\", \"date\": \"2017\", \"capacity\": 82183}, {\"country\": \"USA\", \"date\": \"2018\", \"capacity\": 89077}, {\"country\": \"USA\", \"date\": \"2019\", \"capacity\": 96665}]}}, {\"mode\": \"vega-lite\"});\n",
       "</script>"
      ],
      "text/plain": [
       "alt.Chart(...)"
      ]
     },
     "execution_count": 80,
     "metadata": {},
     "output_type": "execute_result"
    }
   ],
   "source": [
    "alt.Chart(usa).mark_bar(color='#C43C39').encode(\n",
    "    x=alt.X('date', title='Year'),\n",
    "    y=alt.Y('capacity', title='Wind Engergy Capacity (MW)')\n",
    ").properties(width=350, height=200)"
   ]
  },
  {
   "cell_type": "code",
   "execution_count": 78,
   "metadata": {},
   "outputs": [
    {
     "data": {
      "text/html": [
       "\n",
       "<div id=\"altair-viz-39\"></div>\n",
       "<script type=\"text/javascript\">\n",
       "  (function(spec, embedOpt){\n",
       "    const outputDiv = document.getElementById(\"altair-viz-39\");\n",
       "    const paths = {\n",
       "      \"vega\": \"https://cdn.jsdelivr.net/npm//vega@5?noext\",\n",
       "      \"vega-lib\": \"https://cdn.jsdelivr.net/npm//vega-lib?noext\",\n",
       "      \"vega-lite\": \"https://cdn.jsdelivr.net/npm//vega-lite@4.0.0?noext\",\n",
       "      \"vega-embed\": \"https://cdn.jsdelivr.net/npm//vega-embed@6?noext\",\n",
       "    };\n",
       "\n",
       "    function loadScript(lib) {\n",
       "      return new Promise(function(resolve, reject) {\n",
       "        var s = document.createElement('script');\n",
       "        s.src = paths[lib];\n",
       "        s.async = true;\n",
       "        s.onload = () => resolve(paths[lib]);\n",
       "        s.onerror = () => reject(`Error loading script: ${paths[lib]}`);\n",
       "        document.getElementsByTagName(\"head\")[0].appendChild(s);\n",
       "      });\n",
       "    }\n",
       "\n",
       "    function showError(err) {\n",
       "      outputDiv.innerHTML = `<div class=\"error\" style=\"color:red;\">${err}</div>`;\n",
       "      throw err;\n",
       "    }\n",
       "\n",
       "    function displayChart(vegaEmbed) {\n",
       "      vegaEmbed(outputDiv, spec, embedOpt)\n",
       "        .catch(err => showError(`Javascript Error: ${err.message}<br>This usually means there's a typo in your chart specification. See the javascript console for the full traceback.`));\n",
       "    }\n",
       "\n",
       "    if(typeof define === \"function\" && define.amd) {\n",
       "      requirejs.config({paths});\n",
       "      require([\"vega-embed\"], displayChart, err => showError(`Error loading script: ${err.message}`));\n",
       "    } else if (typeof vegaEmbed === \"function\") {\n",
       "      displayChart(vegaEmbed);\n",
       "    } else {\n",
       "      loadScript(\"vega\")\n",
       "        .then(() => loadScript(\"vega-lite\"))\n",
       "        .then(() => loadScript(\"vega-embed\"))\n",
       "        .catch(showError)\n",
       "        .then(() => displayChart(vegaEmbed));\n",
       "    }\n",
       "  })({\"config\": {\"view\": {\"continuousWidth\": 400, \"continuousHeight\": 300}}, \"data\": {\"name\": \"data-4ee7a70ed13387a4ff35ec8a4066457c\"}, \"mark\": {\"type\": \"bar\", \"color\": \"#C43C39\"}, \"encoding\": {\"x\": {\"type\": \"nominal\", \"field\": \"date\", \"title\": \"Year\"}, \"y\": {\"type\": \"quantitative\", \"field\": \"capacity\", \"title\": \"Wind Engergy Capacity (MW)\"}}, \"height\": 200, \"width\": 350, \"$schema\": \"https://vega.github.io/schema/vega-lite/v4.0.0.json\", \"datasets\": {\"data-4ee7a70ed13387a4ff35ec8a4066457c\": [{\"country\": \"Mexico\", \"date\": \"2007\", \"capacity\": 84}, {\"country\": \"Mexico\", \"date\": \"2008\", \"capacity\": 85}, {\"country\": \"Mexico\", \"date\": \"2009\", \"capacity\": 85}, {\"country\": \"Mexico\", \"date\": \"2010\", \"capacity\": 520}, {\"country\": \"Mexico\", \"date\": \"2011\", \"capacity\": 733}, {\"country\": \"Mexico\", \"date\": \"2012\", \"capacity\": 873}, {\"country\": \"Mexico\", \"date\": \"2013\", \"capacity\": 1370}, {\"country\": \"Mexico\", \"date\": \"2014\", \"capacity\": 1859}, {\"country\": \"Mexico\", \"date\": \"2015\", \"capacity\": 2551}, {\"country\": \"Mexico\", \"date\": \"2016\", \"capacity\": 3073}, {\"country\": \"Mexico\", \"date\": \"2017\", \"capacity\": 3527}, {\"country\": \"Mexico\", \"date\": \"2018\", \"capacity\": 4005}, {\"country\": \"Mexico\", \"date\": \"2019\", \"capacity\": 4935}]}}, {\"mode\": \"vega-lite\"});\n",
       "</script>"
      ],
      "text/plain": [
       "alt.Chart(...)"
      ]
     },
     "execution_count": 78,
     "metadata": {},
     "output_type": "execute_result"
    }
   ],
   "source": [
    "alt.Chart(mexico).mark_bar(color='#C43C39').encode(\n",
    "    x=alt.X('date', title='Year'),\n",
    "    y=alt.Y('capacity', title='Wind Engergy Capacity (MW)')\n",
    ").properties(width=350, height=200)"
   ]
  },
  {
   "cell_type": "code",
   "execution_count": null,
   "metadata": {},
   "outputs": [],
   "source": []
  }
 ],
 "metadata": {
  "kernelspec": {
   "display_name": "Python 3.7",
   "language": "python",
   "name": "python37"
  },
  "language_info": {
   "codemirror_mode": {
    "name": "ipython",
    "version": 3
   },
   "file_extension": ".py",
   "mimetype": "text/x-python",
   "name": "python",
   "nbconvert_exporter": "python",
   "pygments_lexer": "ipython3",
   "version": "3.7.6"
  }
 },
 "nbformat": 4,
 "nbformat_minor": 2
}
